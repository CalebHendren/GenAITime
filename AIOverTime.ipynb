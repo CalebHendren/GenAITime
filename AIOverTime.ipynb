{
 "cells": [
  {
   "cell_type": "code",
   "id": "initial_id",
   "metadata": {
    "collapsed": true,
    "ExecuteTime": {
     "end_time": "2025-09-28T19:38:12.006808Z",
     "start_time": "2025-09-28T18:24:51.489969Z"
    }
   },
   "source": [
    "import csv\n",
    "from diophila import OpenAlex\n",
    "\n",
    "email = \"shx983@mocs.utc.edu\"\n",
    "openalex = OpenAlex(email)\n",
    "\n",
    "biology_keywords = [\n",
    "    \"scRNA-seq data\", \"scRNAseq\", \"bulk RNA data\", \"transcriptomic data\", \"transcriptomics\",\n",
    "    \"single-cell\", \"single cell\", \"biomarker discovery\", \"biomarker selection\",\n",
    "    \"synthetic biological data\", \"synthetic biology\", \"bioinformatics\", \"molecular biology\",\n",
    "    \"gene networks\", \"gene network\", \"protein folding\", \"protein structure\",\n",
    "    \"single-cell research\", \"single cell research\", \"genomics\", \"genome sequencing\",\n",
    "    \"proteomics\", \"metabolomics\", \"gene expression data\", \"gene expression\",\n",
    "    \"biological sequences\", \"biological sequence\", \"protein structure prediction\",\n",
    "    \"biological datasets\", \"DNA sequences\", \"RNA sequences\", \"epigenomics\",\n",
    "    \"metagenomics\", \"transcriptomics\", \"lipidomics\", \"glycomics\", \"nutrigenomics\"\n",
    "]\n",
    "\n",
    "generative_ai_keywords = [\n",
    "    \"Variational Autoencoder\", \"VAE\", \"Generative Adversarial Network\", \"GAN\",\n",
    "    \"Denoising diffusion model\", \"DDM\", \"Denoising Diffusion Probabilistic Model\", \"DDPM\",\n",
    "    \"Generative Models\", \"Generative AI\", \"Diffusion Models\", \"Autoencoder\", \"Generative neural networks\"\n",
    "]\n",
    "\n",
    "output_file = \"openalex_biology_generative_ai.csv\"\n",
    "fieldnames = [\"Title\", \"Journal\", \"Year\", \"Abstract\", \"Cited By Count\", \"URL\", \"DOI\"]\n",
    "\n",
    "with open(output_file, mode=\"w\", newline=\"\", encoding=\"utf-8\") as file:\n",
    "    writer = csv.DictWriter(file, fieldnames=fieldnames)\n",
    "    writer.writeheader()\n",
    "\n",
    "    # Iterate over keywords\n",
    "    for bio_kw in biology_keywords:\n",
    "        for ai_kw in generative_ai_keywords:\n",
    "            search_query = f'\"{bio_kw}\" \"{ai_kw}\"'\n",
    "            filters = {\n",
    "                \"from_publication_date\": \"2015-01-01\"\n",
    "            }\n",
    "\n",
    "            works = openalex.get_list_of_works(search=search_query, filters=filters)\n",
    "            for page in works:\n",
    "                for work in page['results']:\n",
    "                    abstract_index = work.get(\"abstract_inverted_index\", {})\n",
    "                    if abstract_index:\n",
    "                        position_word_pairs = []\n",
    "                        for word, positions in abstract_index.items():\n",
    "                            for pos in positions:\n",
    "                                position_word_pairs.append((pos, word))\n",
    "                        position_word_pairs.sort(key=lambda x: x[0])\n",
    "                        abstract = \" \".join(word for _, word in position_word_pairs)\n",
    "                    else:\n",
    "                        abstract = \"N/A\"\n",
    "                    journal = work.get(\"host_venue\", {}).get(\"display_name\")\n",
    "                    if not journal:\n",
    "                        primary_location = work.get(\"primary_location\", {})\n",
    "                        source = primary_location.get(\"source\") if primary_location else {}\n",
    "                        if source is None:\n",
    "                            source = {}\n",
    "                        journal = source.get(\"display_name\", \"N/A\")\n",
    "                    writer.writerow({\n",
    "                        \"Title\": work.get(\"display_name\", \"N/A\"),\n",
    "                        \"Journal\": journal,\n",
    "                        \"Year\": work.get(\"publication_year\", \"N/A\"),\n",
    "                        \"Abstract\": abstract,\n",
    "                        \"Cited By Count\": work.get(\"cited_by_count\", 0),\n",
    "                        \"URL\": work.get(\"id\", \"N/A\"),\n",
    "                        \"DOI\": work.get(\"ids\", {}).get(\"doi\", \"N/A\")\n",
    "                    })\n",
    "\n",
    "print(f\"Query complete. Results saved to {output_file}\")"
   ],
   "outputs": [
    {
     "name": "stdout",
     "output_type": "stream",
     "text": [
      "Query complete. Results saved to openalex_biology_generative_ai.csv\n"
     ]
    }
   ],
   "execution_count": 13
  },
  {
   "metadata": {
    "ExecuteTime": {
     "end_time": "2025-09-28T19:38:17.290941Z",
     "start_time": "2025-09-28T19:38:12.034128Z"
    }
   },
   "cell_type": "code",
   "source": [
    "import csv\n",
    "\n",
    "input_file = \"openalex_biology_generative_ai.csv\"\n",
    "output_file = \"openalex_biology_generative_ai_filtered.csv\"\n",
    "\n",
    "excluded_substrings = [\"bioRxiv\", \"medRxiv\"] # Remove preprints / non-peer reviewed publications\n",
    "biology_keywords = [k.lower() for k in biology_keywords]\n",
    "generative_ai_keywords = [k.lower() for k in generative_ai_keywords]\n",
    "\n",
    "with open(input_file, mode=\"r\", newline=\"\", encoding=\"utf-8\") as infile, \\\n",
    "     open(output_file, mode=\"w\", newline=\"\", encoding=\"utf-8\") as outfile:\n",
    "    reader = csv.DictReader(infile)\n",
    "    fieldnames = reader.fieldnames\n",
    "    writer = csv.DictWriter(outfile, fieldnames=fieldnames)\n",
    "    writer.writeheader()\n",
    "\n",
    "    seen_titles = set()\n",
    "    for row in reader:\n",
    "        journal = row.get(\"Journal\", \"\")\n",
    "        if any(substring in journal for substring in excluded_substrings):\n",
    "            continue\n",
    "\n",
    "        # Remove any duplicates\n",
    "        title = row.get(\"Title\", \"\")\n",
    "        if title in seen_titles:\n",
    "            continue\n",
    "\n",
    "        # Check to ensure one biology and one generative AI keyword are included in Title OR Abstract\n",
    "        title_text = row.get(\"Title\", \"\").lower()\n",
    "        abstract_text = row.get(\"Abstract\", \"\").lower()\n",
    "        combined_text = title_text + \" \" + abstract_text\n",
    "        has_biology = any(bio_kw in combined_text for bio_kw in biology_keywords)\n",
    "        has_ai = any(ai_kw in combined_text for ai_kw in generative_ai_keywords)\n",
    "        if not (has_biology and has_ai):\n",
    "            continue\n",
    "\n",
    "        writer.writerow(row)\n",
    "        seen_titles.add(title)\n",
    "\n",
    "print(f\"Filtering complete. Results saved to {output_file}\")\n"
   ],
   "id": "ac9b0c77ef3cb4aa",
   "outputs": [
    {
     "name": "stdout",
     "output_type": "stream",
     "text": [
      "Filtering complete. Results saved to openalex_biology_generative_ai_filtered.csv\n"
     ]
    }
   ],
   "execution_count": 14
  },
  {
   "metadata": {
    "ExecuteTime": {
     "end_time": "2025-09-29T04:20:30.998090Z",
     "start_time": "2025-09-29T04:20:30.718370Z"
    }
   },
   "cell_type": "code",
   "source": [
    "import csv\n",
    "import matplotlib.pyplot as plt\n",
    "from collections import Counter\n",
    "\n",
    "input_file = \"openalex_biology_generative_ai_filtered.csv\"\n",
    "\n",
    "years = []\n",
    "\n",
    "with open(input_file, mode=\"r\", newline=\"\", encoding=\"utf-8\") as infile:\n",
    "    reader = csv.DictReader(infile)\n",
    "    for row in reader:\n",
    "        year = row.get(\"Year\", \"\")\n",
    "        if year.isdigit():\n",
    "            year_int = int(year)\n",
    "            if 2015 <= year_int <= 2024:  # restrict to 2015–2024\n",
    "                years.append(year_int)\n",
    "\n",
    "year_counts = Counter(years)\n",
    "sorted_years = sorted(year_counts.keys())\n",
    "counts = [year_counts[y] for y in sorted_years]\n",
    "\n",
    "plt.figure(figsize=(10, 6))\n",
    "bars = plt.bar(sorted_years, counts, color=\"steelblue\", edgecolor=\"black\")\n",
    "\n",
    "for bar, count in zip(bars, counts):\n",
    "    height = bar.get_height()\n",
    "    plt.text(bar.get_x() + bar.get_width() / 2, height, str(count),\n",
    "             ha='center', va='bottom', fontsize=10)\n",
    "\n",
    "plt.xlabel(\"Year\")\n",
    "plt.ylabel(\"Number of Publications\")\n",
    "plt.title(\"Number of Publications by Year\")\n",
    "plt.xticks(sorted_years, rotation=45)\n",
    "plt.text(0.5, -0.15, \"Data Source: OpenAlex\", fontsize=10, color=\"gray\",\n",
    "         ha='center', va='top', transform=plt.gca().transAxes)\n",
    "\n",
    "plt.tight_layout()\n",
    "output_image = \"publications_by_year.png\"\n",
    "plt.savefig(output_image, dpi=300, bbox_inches=\"tight\")\n",
    "plt.show()\n",
    "\n",
    "print(f\"Plot saved as {output_image}\")\n"
   ],
   "id": "55287e1c2f6133d9",
   "outputs": [
    {
     "data": {
      "text/plain": [
       "<Figure size 1000x600 with 1 Axes>"
      ],
      "image/png": "[encoded data removed]"
     },
     "metadata": {},
     "output_type": "display_data",
     "jetTransient": {
      "display_id": null
     }
    },
    {
     "name": "stdout",
     "output_type": "stream",
     "text": [
      "Plot saved as publications_by_year.png\n"
     ]
    }
   ],
   "execution_count": 2
  }
 ],
 "metadata": {
  "kernelspec": {
   "display_name": "Python 3",
   "language": "python",
   "name": "python3"
  },
  "language_info": {
   "codemirror_mode": {
    "name": "ipython",
    "version": 2
   },
   "file_extension": ".py",
   "mimetype": "text/x-python",
   "name": "python",
   "nbconvert_exporter": "python",
   "pygments_lexer": "ipython2",
   "version": "2.7.6"
  }
 },
 "nbformat": 4,
 "nbformat_minor": 5
}
